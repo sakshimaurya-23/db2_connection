{
 "cells": [
  {
   "cell_type": "code",
   "execution_count": 4,
   "id": "6c64cbc1",
   "metadata": {},
   "outputs": [
    {
     "name": "stdout",
     "output_type": "stream",
     "text": [
      "Collecting pandas\n",
      "  Downloading pandas-2.3.1-cp312-cp312-macosx_11_0_arm64.whl.metadata (91 kB)\n",
      "Collecting numpy>=1.26.0 (from pandas)\n",
      "  Downloading numpy-2.3.2-cp312-cp312-macosx_14_0_arm64.whl.metadata (62 kB)\n",
      "Requirement already satisfied: python-dateutil>=2.8.2 in ./.venv/lib/python3.12/site-packages (from pandas) (2.9.0.post0)\n",
      "Collecting pytz>=2020.1 (from pandas)\n",
      "  Using cached pytz-2025.2-py2.py3-none-any.whl.metadata (22 kB)\n",
      "Collecting tzdata>=2022.7 (from pandas)\n",
      "  Using cached tzdata-2025.2-py2.py3-none-any.whl.metadata (1.4 kB)\n",
      "Requirement already satisfied: six>=1.5 in ./.venv/lib/python3.12/site-packages (from python-dateutil>=2.8.2->pandas) (1.17.0)\n",
      "Downloading pandas-2.3.1-cp312-cp312-macosx_11_0_arm64.whl (10.7 MB)\n",
      "\u001b[2K   \u001b[90m━━━━━━━━━━━━━━━━━━━━━━━━━━━━━━━━━━━━━━━━\u001b[0m \u001b[32m10.7/10.7 MB\u001b[0m \u001b[31m45.1 MB/s\u001b[0m  \u001b[33m0:00:00\u001b[0meta \u001b[36m0:00:01\u001b[0m\n",
      "\u001b[?25hDownloading numpy-2.3.2-cp312-cp312-macosx_14_0_arm64.whl (5.1 MB)\n",
      "\u001b[2K   \u001b[90m━━━━━━━━━━━━━━━━━━━━━━━━━━━━━━━━━━━━━━━━\u001b[0m \u001b[32m5.1/5.1 MB\u001b[0m \u001b[31m46.6 MB/s\u001b[0m  \u001b[33m0:00:00\u001b[0m\n",
      "\u001b[?25hUsing cached pytz-2025.2-py2.py3-none-any.whl (509 kB)\n",
      "Using cached tzdata-2025.2-py2.py3-none-any.whl (347 kB)\n",
      "Installing collected packages: pytz, tzdata, numpy, pandas\n",
      "\u001b[2K   \u001b[90m━━━━━━━━━━━━━━━━━━━━━━━━━━━━━━━━━━━━━━━━\u001b[0m \u001b[32m4/4\u001b[0m [pandas]2m3/4\u001b[0m [pandas]\n",
      "\u001b[1A\u001b[2KSuccessfully installed numpy-2.3.2 pandas-2.3.1 pytz-2025.2 tzdata-2025.2\n"
     ]
    }
   ],
   "source": [
    "#! pip install ibm_db\n",
    "#! pip install pandas\n"
   ]
  },
  {
   "cell_type": "code",
   "execution_count": 5,
   "id": "4cf3b826",
   "metadata": {},
   "outputs": [],
   "source": [
    "import pandas as pd\n",
    "import ibm_db_dbi\n",
    "\n",
    "# Load CSV\n",
    "# df = pd.read_csv(\"/Users/sakshimaurya/Desktop/Trace-finance/Version-2/extraction_from_bills_tradefinance.csv\")\n",
    "df = pd.read_csv(\"/Users/sakshimaurya/Desktop/Trade_final/db2_conn/clickstream_analytics.csv\")\n"
   ]
  },
  {
   "cell_type": "code",
   "execution_count": null,
   "id": "a0856f4d",
   "metadata": {},
   "outputs": [],
   "source": [
    "df.head()"
   ]
  },
  {
   "cell_type": "markdown",
   "id": "c4a04197",
   "metadata": {},
   "source": [
    "## DB2 connection\n"
   ]
  },
  {
   "cell_type": "code",
   "execution_count": null,
   "id": "01b27203",
   "metadata": {},
   "outputs": [],
   "source": [
    "\n",
    "try:\n",
    "    conn_str = (\n",
    "        \"DATABASE=bludb;\"\n",
    "        \"HOSTNAME=\"\n",
    "        \"PORT=;\"\n",
    "        \"PROTOCOL=TCPIP;\"\n",
    "        \"UID=\"\n",
    "        \"PWD=;\"\n",
    "        \"SECURITY=SSL;\"\n",
    "    )\n",
    "    conn = ibm_db.connect(conn_str, \"\", \"\")\n",
    "    print(\"Connection successful.\")\n",
    "except Exception as e:\n",
    "    print(\"Connection failed:\")\n",
    "    print(e)"
   ]
  },
  {
   "cell_type": "markdown",
   "id": "898cadb0",
   "metadata": {},
   "source": [
    "# Scheme creation"
   ]
  },
  {
   "cell_type": "code",
   "execution_count": null,
   "id": "56d5fb68",
   "metadata": {},
   "outputs": [],
   "source": [
    "import ibm_db\n",
    "\n",
    "schema_name = \"TradeFinance\"\n",
    "\n",
    "try:\n",
    "    create_schema_sql = f\"CREATE SCHEMA {schema_name}\"\n",
    "    ibm_db.exec_immediate(conn, create_schema_sql)\n",
    "    print(f\"Schema '{schema_name}' created successfully.\")\n",
    "except Exception as e:\n",
    "    print(f\"Failed to create schema: {e}\")"
   ]
  },
  {
   "cell_type": "markdown",
   "id": "3a1c96bf",
   "metadata": {},
   "source": [
    "# Table creation"
   ]
  },
  {
   "cell_type": "code",
   "execution_count": null,
   "id": "0d023b77",
   "metadata": {},
   "outputs": [],
   "source": [
    "table_name = \"trade_data_2\""
   ]
  },
  {
   "cell_type": "code",
   "execution_count": null,
   "id": "a4cb7956",
   "metadata": {},
   "outputs": [],
   "source": [
    "columns_ddl = \", \".join([f'\"{col}\" VARCHAR(255)' for col in df.columns])\n",
    "create_table_sql = f'CREATE TABLE \"{schema_name}\".\"{table_name}\" ({columns_ddl})'\n",
    "\n",
    "try:\n",
    "    ibm_db.exec_immediate(conn, create_table_sql)\n",
    "    print(f\"Table '{schema_name}.{table_name}' created.\")\n",
    "except Exception as e:\n",
    "    print(f\"Table creation skipped or failed: {e}\")\n",
    "\n",
    "# Insert data into table using ibm_db_dbi\n",
    "conn_dbi = ibm_db_dbi.Connection(conn)\n",
    "\n",
    "# Prepare insert statement\n",
    "columns = [f'\"{col}\"' for col in df.columns]\n",
    "placeholders = \", \".join([\"?\" for _ in df.columns])\n",
    "insert_sql = f'INSERT INTO \"{schema_name}\".\"{table_name}\" ({\", \".join(columns)}) VALUES ({placeholders})'\n"
   ]
  },
  {
   "cell_type": "code",
   "execution_count": null,
   "id": "9feb09d1",
   "metadata": {},
   "outputs": [],
   "source": [
    "# Insert data into table using ibm_db_dbi\n",
    "conn_dbi = ibm_db_dbi.Connection(conn)\n",
    "\n",
    "# Prepare insert statement\n",
    "columns = [f'\"{col}\"' for col in df.columns]\n",
    "placeholders = \", \".join([\"?\" for _ in df.columns])\n",
    "insert_sql = f'INSERT INTO \"{schema_name}\".\"{table_name}\" ({\", \".join(columns)}) VALUES ({placeholders})'\n",
    "\n",
    "# Insert each row\n",
    "try:\n",
    "    cursor = conn_dbi.cursor()\n",
    "    for row in df.itertuples(index=False, name=None):\n",
    "        cursor.execute(insert_sql, row)\n",
    "    cursor.close()\n",
    "    print(\"All data inserted successfully.\")\n",
    "except Exception as e:\n",
    "    print(\"Data insert failed:\", e)\n",
    "\n",
    "# Close connection\n",
    "ibm_db.close(conn)"
   ]
  }
 ],
 "metadata": {
  "kernelspec": {
   "display_name": ".venv",
   "language": "python",
   "name": "python3"
  },
  "language_info": {
   "codemirror_mode": {
    "name": "ipython",
    "version": 3
   },
   "file_extension": ".py",
   "mimetype": "text/x-python",
   "name": "python",
   "nbconvert_exporter": "python",
   "pygments_lexer": "ipython3",
   "version": "3.12.7"
  }
 },
 "nbformat": 4,
 "nbformat_minor": 5
}
